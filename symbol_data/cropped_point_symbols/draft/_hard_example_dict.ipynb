{
 "cells": [
  {
   "cell_type": "code",
   "execution_count": null,
   "id": "6f873bdc-f5b3-4a79-a501-95e9b93f70e6",
   "metadata": {},
   "outputs": [],
   "source": [
    "\n",
    "dict_ = { \n",
    "    \"bedding_inclined\": \"bedding\",\n",
    "    \"bedding_overturned\": \"bedding\",\n",
    "    \"bedding_vertical\": \"bedding\",\n",
    "    \"Inclined_flow_banding\": \"foliation\",\n",
    "    \"Inclined_metamorphic\": \"foliation\",\n",
    "    \"foliation_horizontal\": \"foliation\",\n",
    "    \"foliation_vertical\": \"foliation\",\n",
    "    \"quarry\": \"mine\",\n",
    "    \"gravel_pit\": \"mine\",\n",
    "    \"mine_tunnel\": \"mine\",\n",
    "    \"mine_shaft\": \"mine\",\n",
    "    \"dot\": \"mine\",\n",
    "    \"drill_hole\": \"mine\",\n",
    "}\n",
    "\n",
    "\n",
    "\n",
    "dict_ = {\n",
    "    \n",
    "    \"bedding\": [\"bedding_inclined\", \n",
    "                \"bedding_overturned\",\n",
    "                \"bedding_vertical\"],\n",
    "    \"foliation\": [\"Inclined_flow_banding\",\n",
    "                  \"Inclined_metamorphic\",\n",
    "                  \"foliation_horizontal\",\n",
    "                  \"foliation_vertical\"],\n",
    "    \"mine\": [\"quarry\", \n",
    "             \"gravel_pit\",\n",
    "             \"mine_tunnel\",\n",
    "             \"mine_shaft\",\n",
    "             \"dot\",\n",
    "             \"drill_hole\"],\n",
    "}"
   ]
  }
 ],
 "metadata": {
  "kernelspec": {
   "display_name": "Python 3 (ipykernel)",
   "language": "python",
   "name": "python3"
  },
  "language_info": {
   "codemirror_mode": {
    "name": "ipython",
    "version": 3
   },
   "file_extension": ".py",
   "mimetype": "text/x-python",
   "name": "python",
   "nbconvert_exporter": "python",
   "pygments_lexer": "ipython3",
   "version": "3.8.15"
  }
 },
 "nbformat": 4,
 "nbformat_minor": 5
}
