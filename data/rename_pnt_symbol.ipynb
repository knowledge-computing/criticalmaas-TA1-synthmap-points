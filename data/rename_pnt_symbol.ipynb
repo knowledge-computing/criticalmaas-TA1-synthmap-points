{
 "cells": [
  {
   "cell_type": "code",
   "execution_count": 2,
   "id": "10676167-fcfc-426d-88c8-a294666623b6",
   "metadata": {},
   "outputs": [],
   "source": [
    "original_name_to_new_name = {\n",
    "    \"circle\": \"drill_hole\",\n",
    "    \"crossed_downward_arrows\": \"gravel_pit\",\n",
    "    \"small_inclined_fault_num\": \"inclined_bedding\",\n",
    "    \"fault_line_triangle_hollow_num\": \"inclined_flow_banding\",\n",
    "    \"fault_line_triangle_num\": \"inclined_metamorphic\",\n",
    "    \"arrow\": \"lineation\",\n",
    "    \"arrow_num\": \"lineation\",\n",
    "    \"triangular_matrix\": \"mine_shaft\",\n",
    "    \"reverse_p_num\": \"overturned_bedding\",\n",
    "    \"x\": \"prospect\",\n",
    "    \"quarry_open_pit\": \"quarry\",\n",
    "    \"sleeping_y\": \"mine_tunnel\"\n",
    "}"
   ]
  },
  {
   "cell_type": "code",
   "execution_count": 3,
   "id": "bb37320b-7243-4d68-8dfc-547114709e29",
   "metadata": {},
   "outputs": [],
   "source": [
    "import json\n",
    "\n",
    "with open('pnt_symbol_map_list_old.json', 'r') as f:\n",
    "    data = json.load(f)\n",
    "    \n",
    "output = {}\n",
    "for k, v in original_name_to_new_name.items():\n",
    "    output[v] = {}    \n",
    "    \n",
    "for k, v in original_name_to_new_name.items():\n",
    "    map_list, symbol_list = data[k]\n",
    "    for _map, _symbol in zip(map_list, symbol_list):\n",
    "        if output[v].get(_map) is None:  \n",
    "            output[v][_map] = []\n",
    "        output[v][_map].append(_symbol)\n",
    "    \n",
    "with open('pnt_symbol_map_list.json', 'w') as f:\n",
    "    json.dump(output, f)\n",
    "    "
   ]
  },
  {
   "cell_type": "code",
   "execution_count": 9,
   "id": "1f946eac-8701-48e0-bfbf-b24a05866c37",
   "metadata": {},
   "outputs": [],
   "source": [
    "# create a map and map point mask dictionary\n",
    "import os \n",
    "import json\n",
    "\n",
    "with open('pnt_symbol_map_list_old.json', 'r') as f:\n",
    "    data = json.load(f)\n",
    "    \n",
    "output = {}\n",
    "for _, v in data.items():\n",
    "    map_list, symbol_list = v\n",
    "    for m, s in zip(map_list, symbol_list):\n",
    "        symbol_tif = m[:-4] + '_' + s + '.tif'\n",
    "        if output.get(m) is None:\n",
    "            output[m] = []\n",
    "            \n",
    "        output[m].append(symbol_tif)  \n",
    "\n",
    "with open('map_list.json', 'w') as f:\n",
    "    json.dump(output, f)\n"
   ]
  },
  {
   "cell_type": "code",
   "execution_count": null,
   "id": "4e680ac5-a8fb-40d1-869b-90864e3f561e",
   "metadata": {},
   "outputs": [],
   "source": []
  }
 ],
 "metadata": {
  "kernelspec": {
   "display_name": "Python 3 (ipykernel)",
   "language": "python",
   "name": "python3"
  },
  "language_info": {
   "codemirror_mode": {
    "name": "ipython",
    "version": 3
   },
   "file_extension": ".py",
   "mimetype": "text/x-python",
   "name": "python",
   "nbconvert_exporter": "python",
   "pygments_lexer": "ipython3",
   "version": "3.8.15"
  }
 },
 "nbformat": 4,
 "nbformat_minor": 5
}
